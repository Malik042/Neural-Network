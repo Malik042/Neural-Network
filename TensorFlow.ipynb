{
 "cells": [
  {
   "cell_type": "code",
   "execution_count": 2,
   "id": "7e2b0547",
   "metadata": {},
   "outputs": [],
   "source": [
    "import tensorflow as tf\n",
    "from tensorflow import keras\n",
    "import matplotlib.pyplot as plt\n",
    "%matplotlib inline\n",
    "import numpy as np"
   ]
  },
  {
   "cell_type": "code",
   "execution_count": 3,
   "id": "cc895040",
   "metadata": {},
   "outputs": [
    {
     "name": "stdout",
     "output_type": "stream",
     "text": [
      "Downloading data from https://storage.googleapis.com/tensorflow/tf-keras-datasets/mnist.npz\n",
      "11490434/11490434 [==============================] - 7s 1us/step\n"
     ]
    }
   ],
   "source": [
    "(X_train, y_train),(X_teat, y_test)= keras.datasets.mnist.load_data()"
   ]
  },
  {
   "cell_type": "code",
   "execution_count": 4,
   "id": "72fe4557",
   "metadata": {},
   "outputs": [
    {
     "data": {
      "text/plain": [
       "60000"
      ]
     },
     "execution_count": 4,
     "metadata": {},
     "output_type": "execute_result"
    }
   ],
   "source": [
    "len(X_train)"
   ]
  },
  {
   "cell_type": "code",
   "execution_count": 6,
   "id": "9ff55da9",
   "metadata": {},
   "outputs": [
    {
     "data": {
      "text/plain": [
       "10000"
      ]
     },
     "execution_count": 6,
     "metadata": {},
     "output_type": "execute_result"
    }
   ],
   "source": [
    "len(X_teat)"
   ]
  },
  {
   "cell_type": "code",
   "execution_count": 16,
   "id": "2a035cdb",
   "metadata": {},
   "outputs": [
    {
     "data": {
      "text/plain": [
       "(28, 28)"
      ]
     },
     "execution_count": 16,
     "metadata": {},
     "output_type": "execute_result"
    }
   ],
   "source": [
    "X_train[0].shape"
   ]
  },
  {
   "cell_type": "code",
   "execution_count": 15,
   "id": "c3990886",
   "metadata": {},
   "outputs": [
    {
     "data": {
      "text/plain": [
       "<matplotlib.image.AxesImage at 0x1f61fbe00a0>"
      ]
     },
     "execution_count": 15,
     "metadata": {},
     "output_type": "execute_result"
    },
    {
     "data": {
      "image/png": "[encoded data removed]",
      "text/plain": [
       "<Figure size 288x288 with 1 Axes>"
      ]
     },
     "metadata": {
      "needs_background": "light"
     },
     "output_type": "display_data"
    }
   ],
   "source": [
    "plt.matshow(X_train[109])"
   ]
  },
  {
   "cell_type": "code",
   "execution_count": 17,
   "id": "f0938d33",
   "metadata": {},
   "outputs": [
    {
     "data": {
      "text/plain": [
       "2"
      ]
     },
     "execution_count": 17,
     "metadata": {},
     "output_type": "execute_result"
    }
   ],
   "source": [
    "y_train[109]"
   ]
  },
  {
   "cell_type": "markdown",
   "id": "f5a3b483",
   "metadata": {},
   "source": [
    "# We have to chage a two dimetional array into one dimentional array"
   ]
  },
  {
   "cell_type": "code",
   "execution_count": 25,
   "id": "6501eeff",
   "metadata": {},
   "outputs": [],
   "source": [
    "X_train=X_train/255\n",
    "X_teat=X_teat/255\n",
    "X_train_flattened=X_train.reshape(len(X_train), 28*28)\n",
    "X_teat_flattened=X_teat.reshape(len(X_teat), 28*28)"
   ]
  },
  {
   "cell_type": "markdown",
   "id": "e6a8e385",
   "metadata": {},
   "source": [
    "# Now, we will create a neural network"
   ]
  },
  {
   "cell_type": "code",
   "execution_count": 26,
   "id": "250e7f80",
   "metadata": {},
   "outputs": [
    {
     "name": "stdout",
     "output_type": "stream",
     "text": [
      "Epoch 1/5\n",
      "1875/1875 [==============================] - 7s 2ms/step - loss: 0.4690 - accuracy: 0.8765\n",
      "Epoch 2/5\n",
      "1875/1875 [==============================] - 3s 2ms/step - loss: 0.3035 - accuracy: 0.9158\n",
      "Epoch 3/5\n",
      "1875/1875 [==============================] - 3s 2ms/step - loss: 0.2830 - accuracy: 0.9208\n",
      "Epoch 4/5\n",
      "1875/1875 [==============================] - 3s 2ms/step - loss: 0.2725 - accuracy: 0.9240\n",
      "Epoch 5/5\n",
      "1875/1875 [==============================] - 3s 2ms/step - loss: 0.2662 - accuracy: 0.9261\n"
     ]
    },
    {
     "data": {
      "text/plain": [
       "<keras.callbacks.History at 0x1f622d9e2b0>"
      ]
     },
     "execution_count": 26,
     "metadata": {},
     "output_type": "execute_result"
    }
   ],
   "source": [
    "NN=keras.Sequential([keras.layers.Dense(10, input_shape=(784,), activation='sigmiod')])\n",
    "\n",
    "# we don't need input shape in 2nd layer\n",
    "# 100 in the num of neurons, there is no hard and fast rule for no. of neurons.\n",
    "# #should be less than input shape\n",
    "NN.compile(\n",
    "    optimizer='adam',\n",
    "    loss='sparse_categorical_crossentropy',\n",
    "    metrics=['accuracy'])\n",
    "\n",
    "NN.fit(X_train_flattened, y_train, epochs=5)"
   ]
  },
  {
   "cell_type": "code",
   "execution_count": 27,
   "id": "ab4e88e9",
   "metadata": {},
   "outputs": [
    {
     "name": "stdout",
     "output_type": "stream",
     "text": [
      "313/313 [==============================] - 1s 2ms/step - loss: 0.2669 - accuracy: 0.9267\n"
     ]
    },
    {
     "data": {
      "text/plain": [
       "[0.26685482263565063, 0.9266999959945679]"
      ]
     },
     "execution_count": 27,
     "metadata": {},
     "output_type": "execute_result"
    }
   ],
   "source": [
    "NN.evaluate(X_teat_flattened, y_test)"
   ]
  },
  {
   "cell_type": "markdown",
   "id": "f5e4e2bc",
   "metadata": {},
   "source": [
    "# Model Prediction"
   ]
  },
  {
   "cell_type": "code",
   "execution_count": 28,
   "id": "152f93ef",
   "metadata": {},
   "outputs": [
    {
     "data": {
      "text/plain": [
       "<matplotlib.image.AxesImage at 0x1f63d291370>"
      ]
     },
     "execution_count": 28,
     "metadata": {},
     "output_type": "execute_result"
    },
    {
     "data": {
      "image/png": "[encoded data removed]",
      "text/plain": [
       "<Figure size 288x288 with 1 Axes>"
      ]
     },
     "metadata": {
      "needs_background": "light"
     },
     "output_type": "display_data"
    }
   ],
   "source": [
    "plt.matshow(X_teat[0])"
   ]
  },
  {
   "cell_type": "code",
   "execution_count": 29,
   "id": "0468febe",
   "metadata": {},
   "outputs": [
    {
     "name": "stdout",
     "output_type": "stream",
     "text": [
      "313/313 [==============================] - 1s 1ms/step\n"
     ]
    }
   ],
   "source": [
    "y_pred=NN.predict(X_teat_flattened)"
   ]
  },
  {
   "cell_type": "code",
   "execution_count": 30,
   "id": "67660fba",
   "metadata": {},
   "outputs": [
    {
     "data": {
      "text/plain": [
       "array([3.17137912e-02, 4.34963340e-07, 4.53729406e-02, 9.65190709e-01,\n",
       "       3.32547841e-03, 1.41866356e-01, 2.26372617e-06, 9.99708116e-01,\n",
       "       1.13739505e-01, 6.18489265e-01], dtype=float32)"
      ]
     },
     "execution_count": 30,
     "metadata": {},
     "output_type": "execute_result"
    }
   ],
   "source": [
    "y_pred[0]"
   ]
  },
  {
   "cell_type": "code",
   "execution_count": 31,
   "id": "b4796bc2",
   "metadata": {},
   "outputs": [
    {
     "data": {
      "text/plain": [
       "7"
      ]
     },
     "execution_count": 31,
     "metadata": {},
     "output_type": "execute_result"
    }
   ],
   "source": [
    "np.argmax(y_pred[0])"
   ]
  },
  {
   "cell_type": "code",
   "execution_count": 32,
   "id": "acdf198e",
   "metadata": {},
   "outputs": [
    {
     "data": {
      "text/plain": [
       "<matplotlib.image.AxesImage at 0x1f6496cd910>"
      ]
     },
     "execution_count": 32,
     "metadata": {},
     "output_type": "execute_result"
    },
    {
     "data": {
      "image/png": "[encoded data removed]",
      "text/plain": [
       "<Figure size 288x288 with 1 Axes>"
      ]
     },
     "metadata": {
      "needs_background": "light"
     },
     "output_type": "display_data"
    }
   ],
   "source": [
    "plt.matshow(X_teat[105])"
   ]
  },
  {
   "cell_type": "code",
   "execution_count": 33,
   "id": "d9a83e46",
   "metadata": {},
   "outputs": [
    {
     "data": {
      "text/plain": [
       "array([2.6796127e-03, 4.3692060e-05, 2.3071267e-02, 2.2686018e-02,\n",
       "       5.1945138e-01, 4.6691179e-02, 2.8486229e-03, 2.9260555e-01,\n",
       "       1.8025652e-01, 9.7990417e-01], dtype=float32)"
      ]
     },
     "execution_count": 33,
     "metadata": {},
     "output_type": "execute_result"
    }
   ],
   "source": [
    "y_pred[105]"
   ]
  },
  {
   "cell_type": "code",
   "execution_count": 34,
   "id": "d641d566",
   "metadata": {},
   "outputs": [
    {
     "data": {
      "text/plain": [
       "9"
      ]
     },
     "execution_count": 34,
     "metadata": {},
     "output_type": "execute_result"
    }
   ],
   "source": [
    "np.argmax(y_pred[105])"
   ]
  },
  {
   "cell_type": "markdown",
   "id": "d44b1725",
   "metadata": {},
   "source": [
    "# Confusion Metrics"
   ]
  },
  {
   "cell_type": "code",
   "execution_count": 35,
   "id": "9a93df76",
   "metadata": {},
   "outputs": [],
   "source": [
    "y_pred_label= [np.argmax(i) for i in y_pred]"
   ]
  },
  {
   "cell_type": "code",
   "execution_count": 36,
   "id": "d5b43193",
   "metadata": {},
   "outputs": [],
   "source": [
    "cm = tf.math.confusion_matrix(labels=y_test, predictions=y_pred_label)"
   ]
  },
  {
   "cell_type": "code",
   "execution_count": 37,
   "id": "6b696621",
   "metadata": {},
   "outputs": [
    {
     "data": {
      "text/plain": [
       "<tf.Tensor: shape=(10, 10), dtype=int32, numpy=\n",
       "array([[ 962,    0,    2,    2,    0,    6,    6,    1,    1,    0],\n",
       "       [   0, 1114,    3,    2,    0,    1,    4,    2,    9,    0],\n",
       "       [   7,    7,  930,   15,    7,    5,   12,    9,   36,    4],\n",
       "       [   3,    0,   23,  918,    1,   30,    2,    6,   20,    7],\n",
       "       [   1,    1,    8,    1,  911,    0,   10,    3,   10,   37],\n",
       "       [   8,    3,    3,   24,    7,  797,   12,    3,   29,    6],\n",
       "       [  13,    3,    7,    1,    7,   15,  909,    1,    2,    0],\n",
       "       [   2,    6,   26,    8,    9,    1,    0,  933,    2,   41],\n",
       "       [   7,    8,    6,   25,    9,   32,    9,    6,  864,    8],\n",
       "       [  11,    7,    1,   12,   25,    8,    0,   11,    5,  929]])>"
      ]
     },
     "execution_count": 37,
     "metadata": {},
     "output_type": "execute_result"
    }
   ],
   "source": [
    "cm"
   ]
  },
  {
   "cell_type": "markdown",
   "id": "64684a3d",
   "metadata": {},
   "source": [
    "# Adding Layer"
   ]
  },
  {
   "cell_type": "code",
   "execution_count": null,
   "id": "c1ef5f05",
   "metadata": {},
   "outputs": [],
   "source": [
    "NN=keras.Sequential([keras.layers.Dense(100, input_shape=(784,), activation='relu'),\n",
    "                    keras.layers.Dense(10, activation='sigmoid')])\n",
    "\n",
    "# we don't need input shape in 2nd layer\n",
    "# 100 in the num of neurons, there is no hard and fast rule for no. of neurons.\n",
    "# #should be less than input shape\n",
    "NN.compile(\n",
    "    optimizer='adam',\n",
    "    loss='sparse_categorical_crossentropy',\n",
    "    metrics=['accuracy'])\n",
    "\n",
    "NN.fit(X_train_flattened, y_train, epochs=5)"
   ]
  },
  {
   "cell_type": "code",
   "execution_count": null,
   "id": "29542441",
   "metadata": {},
   "outputs": [],
   "source": [
    "keras."
   ]
  }
 ],
 "metadata": {
  "kernelspec": {
   "display_name": "Python 3 (ipykernel)",
   "language": "python",
   "name": "python3"
  },
  "language_info": {
   "codemirror_mode": {
    "name": "ipython",
    "version": 3
   },
   "file_extension": ".py",
   "mimetype": "text/x-python",
   "name": "python",
   "nbconvert_exporter": "python",
   "pygments_lexer": "ipython3",
   "version": "3.9.12"
  }
 },
 "nbformat": 4,
 "nbformat_minor": 5
}
